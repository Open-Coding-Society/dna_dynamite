{
 "cells": [
  {
   "cell_type": "markdown",
   "metadata": {},
   "source": [
    "---\n",
    "layout: template\n",
    "title: Frontend Documentation\n",
    "description: Frontend Documentation\n",
    "permalink: /frontend/\n",
    "comments: true\n",
    "categories: [Frontend]\n",
    "toc: true\n",
    "---"
   ]
  },
  {
   "cell_type": "markdown",
   "metadata": {},
   "source": [
    "<style>\n",
    "/* Improve code tag readability inside prose */\n",
    ".prose code {\n",
    "  background-color: #f3f4f6; /* Tailwind gray-100 */\n",
    "  color: #1e293b; /* Tailwind slate-800 */\n",
    "  padding: 0.15rem 0.4rem;\n",
    "  border-radius: 0.25rem;\n",
    "  font-weight: 500;\n",
    "  font-size: 0.875em;\n",
    "}\n",
    "\n",
    "/* Dark mode override */\n",
    ".dark .prose code {\n",
    "  background-color: #1e293b; /* slate-800 */\n",
    "  color: #f8fafc; /* slate-50 */\n",
    "}\n",
    "</style>\n",
    "\n",
    "## Overview\n",
    "\n",
    "**DNA Dynamite** is a browser-based educational game that teaches DNA base-pairing (A–T and G–C) through interactive gameplay.  \n",
    "This documentation describes the structure of the frontend codebase, including file roles, styling framework, and best practices for development.\n",
    "\n",
    "---\n",
    "\n",
    "## File Structure\n",
    "\n",
    "**Directory:** `assets/js/dynamite/`\n",
    "\n",
    "| File            | Description                                                                 |\n",
    "|-----------------|-----------------------------------------------------------------------------|\n",
    "| `BaseMoving.js` | Controls how DNA strands scroll upward during gameplay.                    |\n",
    "| `GameController.js` | Manages game controls like start, pause, resume, and speed changes.        |\n",
    "| `GameEnv.js`    | Sets up the canvas, renders elements, and handles scoring and game state.  |\n",
    "| `GameSetup.js`  | Initializes the game, including strand generation and UI components.       |\n",
    "| `GameObject.js` | Defines object traits like collision detection and movement.               |\n",
    "| `ScoreAPI.js`   | Handles high score data storage and retrieval.                             |\n",
    "\n",
    "---\n",
    "\n",
    "## Entry Point\n",
    "\n",
    "**`index.md`** acts as the main webpage that hosts the game.  \n",
    "It integrates the game’s frontend logic and UI into a static site and loads game scripts and the canvas display.\n",
    "\n",
    "---\n",
    "\n",
    "## Styling\n",
    "\n",
    "The project uses [Tailwind CSS](https://tailwindcss.com) for utility-first styling.\n",
    "\n",
    "- **Layout & spacing:** `flex`, `grid`, `p-4`, `gap-4`\n",
    "- **Typography:** `text-lg`, `font-bold`, `text-center`\n",
    "- **Colors:** `bg-pink-500`, `text-black`, `hover:bg-pink-600`\n",
    "- **Responsive design:** `sm:`, `md:`, `lg:`"
   ]
  }
 ],
 "metadata": {
  "language_info": {
   "name": "python"
  }
 },
 "nbformat": 4,
 "nbformat_minor": 2
}
