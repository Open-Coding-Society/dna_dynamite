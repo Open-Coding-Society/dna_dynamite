{
 "cells": [
  {
   "cell_type": "raw",
   "metadata": {
    "vscode": {
     "languageId": "raw"
    }
   },
   "source": [
    "---\n",
    "layout: post\n",
    "title: Game Play Documentation\n",
    "description: Game Play Documentation\n",
    "permalink: /gameplaydocumentation/\n",
    "comments: true\n",
    "categories: [gameplay]\n",
    "---"
   ]
  },
  {
   "cell_type": "markdown",
   "metadata": {},
   "source": [
    "<style>\n",
    "  body {\n",
    "    max-width: 1000px;\n",
    "    margin: 0 auto;\n",
    "    padding: 20px;\n",
    "    line-height: 1.6;\n",
    "    font-family: Arial, sans-serif;\n",
    "  }\n",
    "\n",
    "  h1, h2, h3 {\n",
    "    line-height: 1.2;\n",
    "  }\n",
    "\n",
    "  ul {\n",
    "    padding-left: 20px;\n",
    "  }\n",
    "\n",
    "  code {\n",
    "    background-color: #f4f4f4;\n",
    "    padding: 2px 4px;\n",
    "    border-radius: 4px;\n",
    "    font-family: monospace;\n",
    "  }\n",
    "</style>"
   ]
  },
  {
   "cell_type": "markdown",
   "metadata": {},
   "source": [
    "# Inspiration:\n",
    "\n",
    "Our team's inspiration for **DNA Dynamite** came from the popular mobile game **Block Blast**.  \n",
    "Our game works in a similar manner by fitting and matching the correct DNA nucleotides to \"blast\" the DNA strands, much like clearing blocks in Block Blast.\n",
    "\n",
    "In **DNA Dynamite**, if a player matches the wrong DNA nucleotides three times, they lose all their hearts and the game ends — similar to running out of moves in Block Blast.\n",
    "\n",
    "## Block Blast Reference:\n",
    "\n",
    "<img src=\"{{site.baseurl}}/images/dna-dynamite/blockblast.png\" width=\"200\" height=\"800\">\n",
    "\n",
    "---\n",
    "\n",
    "# How to Play:\n",
    "\n",
    "Our game provides a detailed instruction manual for users before gameplay begins.\n",
    "\n",
    "To play **DNA Dynamite**:\n",
    "\n",
    "- Drag and drop base pairs from the \"Bank of Bases\" into their corresponding empty spots on the DNA strands.\n",
    "- Complete each DNA strand correctly before it disappears.\n",
    "- If a strand disappears before completion, you lose one life.\n",
    "- If you lose three lives, you must answer three trivia questions to revive and continue playing.\n",
    "\n",
    "At the start of the game, players are also provided with a nucleotide base-pairing key as a reference:\n",
    "\n",
    "- **Adenine (A)** pairs with **Thymine (T)**\n",
    "- **Guanine (G)** pairs with **Cytosine (C)**\n",
    "\n",
    "This ensures that even players without prior DNA knowledge can still succeed.\n",
    "\n",
    "---\n",
    "\n",
    "# Objectives:\n",
    "\n",
    "The main objectives of our game are to:\n",
    "\n",
    "- Teach DNA nucleotide base-pairing concepts.\n",
    "- Create an interactive game to aid learning through play.\n",
    "- Promote active recall through engaging gameplay mechanics.\n",
    "- Incorporate game-based learning with real consequences (loss of lives).\n",
    "- Introduce educational challenges (trivia) as a revival mechanism.\n",
    "- Provide support and guidance for beginner-level players.\n",
    "\n",
    "---\n",
    "\n",
    "# User Story:\n",
    "\n",
    "As a follower of Illumina's social media account, I feel awed but intimidated by the impressive research being conducted by scientists. However, I notice a link at the top of the page to a game that promises to teach me about DNA and Illumina in an easy-to-learn format.\n",
    "\n",
    "Upon clicking the game link, I follow these steps:\n",
    "\n",
    "- Read the game instructions that pop up.\n",
    "- Press the **Start Game** button.\n",
    "- Unzip the DNA helix molecules.\n",
    "- Drag base pairs into empty slots on the DNA strands until three molecules evade me.\n",
    "- Answer the trivia questions that pop up after losing three lives.\n",
    "- Continue playing to try and reach a new high score!\n",
    "\n",
    "After playing, I now understand how DNA editing works and how scientists manipulate DNA to achieve specific traits in organisms. I have a much clearer understanding of what Illumina does and am excited to learn even more!"
   ]
  }
 ],
 "metadata": {
  "kernelspec": {
   "display_name": "Python 3",
   "language": "python",
   "name": "python3"
  },
  "language_info": {
   "codemirror_mode": {
    "name": "ipython",
    "version": 3
   },
   "file_extension": ".py",
   "mimetype": "text/x-python",
   "name": "python",
   "nbconvert_exporter": "python",
   "pygments_lexer": "ipython3",
   "version": "3.10.12"
  }
 },
 "nbformat": 4,
 "nbformat_minor": 2
}
