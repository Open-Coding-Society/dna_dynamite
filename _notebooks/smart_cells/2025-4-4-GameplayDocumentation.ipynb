{
 "cells": [
  {
   "cell_type": "raw",
   "metadata": {
    "vscode": {
     "languageId": "raw"
    }
   },
   "source": [
    "---\n",
    "layout: post\n",
    "title: Game Play Documentation\n",
    "description: Game Play Documentation\n",
    "permalink: /gameplaydocumentation/\n",
    "comments: true\n",
    "categories: [gameplay]\n",
    "---"
   ]
  },
  {
   "cell_type": "markdown",
   "metadata": {},
   "source": [
    "# Inspiration\n",
    "\n",
    "Our teams inspiration for our DNA dynamite game was by the very popuar blockblast game! Our game works in a similr manner by fitting/mattching the right DNA nucleotides to \"blast\" the DNA or the blocks away! Similar to block blast, if you run out of room or in this case match the wrong DNA nucleotides 3 times then the hearts will break and the game is over! \n",
    "\n",
    "\n",
    "**Block Blast** \n",
    "\n",
    "<img src=\"{{site.baseurl}}/images/dna-dynamite/blockblast.png\" width = \"200\" height = \"800\">\n",
    "\n",
    "# How to Play: \n",
    "\n",
    "Our game gives a how to play instruction manual. Overall to play our game, the user must drag and drop the base pairs in the Bank of Bases to their corresponding spots on DNA to complete the strands. If the strand disappears before it's completed, you lose one life. If you lose three lives, you must answer 3 trivia questions to revive and keep playing. At the begining of the game the user is given the base pair nucleotide keys: Adenine pairs with Thymine and Guanine pairs with Cytosine incase they did not already have the prior knowledge. \n",
    "\n",
    "# Objectives:\n",
    "\n",
    "Our teams main objectives for the game are to: \n",
    "\n",
    "- Teach DNA nucleotide bases \n",
    "- Create and interactive game to help teach/learn\n",
    "- Promote Active Recall Through Gameplay Mechanics\n",
    "- Incorporate Game-Based Learning with Consequences\n",
    "- Introduce Educational Challenges (Trivia) as a Revival Mechanism\n",
    "- Provide Support for Beginners\n"
   ]
  }
 ],
 "metadata": {
  "kernelspec": {
   "display_name": "Python 3",
   "language": "python",
   "name": "python3"
  },
  "language_info": {
   "codemirror_mode": {
    "name": "ipython",
    "version": 3
   },
   "file_extension": ".py",
   "mimetype": "text/x-python",
   "name": "python",
   "nbconvert_exporter": "python",
   "pygments_lexer": "ipython3",
   "version": "3.10.12"
  }
 },
 "nbformat": 4,
 "nbformat_minor": 2
}
