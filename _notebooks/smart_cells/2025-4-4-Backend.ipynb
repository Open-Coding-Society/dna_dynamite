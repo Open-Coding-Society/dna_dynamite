{
 "cells": [
  {
   "cell_type": "raw",
   "metadata": {
    "vscode": {
     "languageId": "raw"
    }
   },
   "source": [
    "---\n",
    "layout: template\n",
    "title: Backend Documentation\n",
    "description: Backend Documentation\n",
    "permalink: /backend_documentation/\n",
    "comments: true\n",
    "categories: [Backend]\n",
    "---"
   ]
  },
  {
   "cell_type": "markdown",
   "metadata": {},
   "source": [
    "# Backend Documentation\n",
    "\n",
    "## Gemini API Integration for Trivia Quiz:\n",
    "<br>\n",
    "Our team is currently using a Gemini API to dynamically source trivia questions for the pop-up feature that appears when a player loses all three lives (the 3 hearts at the top right of the screen break). The gemini API ensures that the questions are random but also closely related to DNA and genetics, maintaining relevance to the game theme.\n",
    "<br>\n",
    "When a user loses their third life (the last heart breaks), the frontend fetches a trivia pop-up with a genetics-related question. To avoid any bias in question selection, the backend sends a custom prompt to the Gemini API, which responds with:\n",
    "<br>\n",
    " - A trivia question<br>\n",
    "\n",
    " - Four answer choices<br>\n",
    "\n",
    " - The correct answer<br>\n",
    "\n",
    " - An explanation<br>\n",
    "\n",
    "This information is then displayed on the frontend. If the user answers incorrectly, the explanation is shown to help reinforce genetics knowledge before the next attempt.<br>\n",
    "\n",
    "---\n",
    "\n",
    "**Files Created In Backend:**\n",
    "<br>\n",
    "- **BaseMoving.js** — Defines the class for the draggable nucleotide base.<br>\n",
    "- **GameObject.js** — Manages game objects.<br>\n",
    "- **DragDropTest.js** — Integrates and manages the drag-and-drop functionality.<br>\n",
    "- **DragDrop.md** — Displays the drag-and-drop test setup on a webpage.<br>\n",
    "\n",
    "---\n",
    "\n",
    "# Next Steps:\n",
    "<br>\n",
    "We plan to store users' trivia answer accuracy in the backend to eventually display user-specific statistics as part of the game experience.<br><br><br>\n",
    "\n",
    "## API for Storing Highest Quiz Scores:\n",
    "\n",
    "We have implemented a backend API to store each user's highest quiz score.<br>\n",
    "\n",
    "Currently, the API retrieves and saves the user's best performance. In the future, we aim to expand this system to support a full leaderboard, allowing players to compete and track top scores.<br><br><br>\n",
    "\n",
    "## Future Feature: Face ID Authentication:\n",
    "\n",
    "Looking ahead, we aspire to implement Face ID login for added security and convenience.<br>\n",
    "\n",
    "Our goal is to create a backend API to manage user facial data securely and connect it with the frontend to enable quick and safe login, enhancing the user experience and safeguarding user information.<br><br><br>\n",
    "\n",
    "\n",
    "## Drag and Drop Development (instead of typing):\n",
    "\n",
    "We are actively developing a drag-and-drop feature for gameplay. At the moment, we have implemented a basic system allowing a single nucleotide base to be dragged across the screen.<br>\n",
    "\n",
    "We are currently working on properly linking the JavaScript files to our markdown (.md) pages to visualize and test these interactions.<br>"
   ]
  },
  {
   "cell_type": "markdown",
   "metadata": {},
   "source": [
    "<style>\n",
    "    p {\n",
    "        color: black\n",
    "    }\n",
    "    li {\n",
    "        color: black\n",
    "    }\n",
    "</style>"
   ]
  },
  {
   "cell_type": "markdown",
   "metadata": {},
   "source": [
    "<style>\n",
    "    p {\n",
    "        color: #000000\n",
    "    }\n",
    "</style>"
   ]
  }
 ],
 "metadata": {
  "kernelspec": {
   "display_name": "Python 3",
   "language": "python",
   "name": "python3"
  },
  "language_info": {
   "codemirror_mode": {
    "name": "ipython",
    "version": 3
   },
   "file_extension": ".py",
   "mimetype": "text/x-python",
   "name": "python",
   "nbconvert_exporter": "python",
   "pygments_lexer": "ipython3",
   "version": "3.10.12"
  }
 },
 "nbformat": 4,
 "nbformat_minor": 2
}
