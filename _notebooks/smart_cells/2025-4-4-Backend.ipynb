{
 "cells": [
  {
   "cell_type": "raw",
   "metadata": {
    "vscode": {
     "languageId": "raw"
    }
   },
   "source": [
    "---\n",
    "layout: template\n",
    "title: Backend Documentation\n",
    "description: Backend Documentation\n",
    "permalink: /backend\n",
    "comments: true\n",
    "categories: [Backend]\n",
    "toc: true\n",
    "---"
   ]
  },
  {
   "cell_type": "markdown",
   "metadata": {},
   "source": [
    "# Backend Documentation\n",
    "<img src=\"{{ site.baseurl }}/images/dna-dynamite/backend-diagram.png\" alt=\"My Image\">\n",
    "\n",
    "## APIs\n",
    "\n",
    "**High Score API:** \n",
    "- Stores user high score into database\n",
    "- Displayed on Leaderboard in game\n",
    "\n",
    "**Gemini Quiz:**\n",
    "- Gemini sourced DNA quiz questions\n",
    "- Explaination on questions also sourced from Gemini\n",
    "- Displayed on trivia quiz after losing three lives \n",
    "\n",
    "**Predict Risk Model:**\n",
    "- Predicts risk of heart disease and stroke\n",
    "- Takes risk factors as input\n",
    "- Model trained based on risk factors \n",
    "- Equation for risk computed using coefficience from health studies data\n",
    "- Average risk computed based on model and equation\n",
    "- Displayed on Predict page\n",
    "\n",
    "**Feedback Review Posts:**\n",
    "- Creates posts under backend group Reviews\n",
    "- Channels are Report a Bug, Suggestions, and Reviews\n",
    "- Posts are filtered based on channel selected \n",
    "- Reviews are in backend under posts\n",
    "- Displayed on Feedback page \n",
    "\n",
    "\n",
    "\n",
    "## Gemini API Integration for Trivia Quiz:\n",
    "<br>\n",
    "Our team is currently using a Gemini API to dynamically source trivia questions for the pop-up feature that appears when a player loses all three lives (the 3 hearts at the top right of the screen break). The gemini API ensures that the questions are random but also closely related to DNA and genetics, maintaining relevance to the game theme.\n",
    "<br>\n",
    "When a user loses their third life (the last heart breaks), the frontend fetches a trivia pop-up with a genetics-related question. To avoid any bias in question selection, the backend sends a custom prompt to the Gemini API, which responds with:\n",
    "<br>\n",
    " - A trivia question<br>\n",
    "\n",
    " - Four answer choices<br>\n",
    "\n",
    " - The correct answer<br>\n",
    "\n",
    " - An explanation<br>\n",
    "\n",
    "This information is then displayed on the frontend. If the user answers incorrectly, the explanation is shown to help reinforce genetics knowledge before the next attempt.<br>\n"
   ]
  },
  {
   "cell_type": "markdown",
   "metadata": {},
   "source": [
    "<style>\n",
    "    p {\n",
    "        color: black\n",
    "    }\n",
    "    li {\n",
    "        color: black\n",
    "    }\n",
    "</style>"
   ]
  },
  {
   "cell_type": "markdown",
   "metadata": {},
   "source": [
    "<style>\n",
    "    p {\n",
    "        color: #000000\n",
    "    }\n",
    "</style>"
   ]
  }
 ],
 "metadata": {
  "kernelspec": {
   "display_name": "Python 3",
   "language": "python",
   "name": "python3"
  },
  "language_info": {
   "codemirror_mode": {
    "name": "ipython",
    "version": 3
   },
   "file_extension": ".py",
   "mimetype": "text/x-python",
   "name": "python",
   "nbconvert_exporter": "python",
   "pygments_lexer": "ipython3",
   "version": "3.10.12"
  }
 },
 "nbformat": 4,
 "nbformat_minor": 2
}
