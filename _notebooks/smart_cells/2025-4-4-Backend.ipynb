{
 "cells": [
  {
   "cell_type": "raw",
   "metadata": {
    "vscode": {
     "languageId": "raw"
    }
   },
   "source": [
    "---\n",
    "layout: template\n",
    "title: Backend Documentation\n",
    "description: Backend Documentation\n",
    "permalink: /backend_documentation/\n",
    "comments: true\n",
    "categories: [Backend]\n",
    "---"
   ]
  },
  {
   "cell_type": "markdown",
   "metadata": {},
   "source": [
    "<style>\n",
    "  body {\n",
    "    max-width: 1000px;\n",
    "    margin: 0 auto;\n",
    "    padding: 20px;\n",
    "    line-height: 1.6;\n",
    "    font-family: Arial, sans-serif;\n",
    "  }\n",
    "\n",
    "  h1, h2, h3 {\n",
    "    line-height: 1.2;\n",
    "  }\n",
    "\n",
    "  ul {\n",
    "    padding-left: 20px;\n",
    "  }\n",
    "\n",
    "  code {\n",
    "    background-color: #f4f4f4;\n",
    "    padding: 2px 4px;\n",
    "    border-radius: 4px;\n",
    "    font-family: monospace;\n",
    "  }\n",
    "</style>"
   ]
  },
  {
   "cell_type": "markdown",
   "metadata": {},
   "source": [
    "# Backend Documentation\n",
    "\n",
    "## Gemini API Integration for Trivia Quiz:\n",
    "\n",
    "We are currently using the Gemini API to dynamically source trivia questions for the pop-up feature that appears when a player loses all three lives. This ensures that the questions are random and closely related to DNA and genetics, maintaining relevance to our game theme.\n",
    "\n",
    "When a user loses their third life, the frontend triggers a trivia pop-up with a genetics-related question. To avoid any bias in question selection, the backend sends a custom prompt to the Gemini API, which responds with:\n",
    "\n",
    " - A trivia question\n",
    "\n",
    " - Four answer choices\n",
    "\n",
    " - The correct answer\n",
    "\n",
    " - An explanation\n",
    "\n",
    "This information is then displayed on the frontend. If the user answers incorrectly, the explanation is shown to help reinforce genetics knowledge before the next attempt.\n",
    "\n",
    "**Next Steps:**\n",
    "\n",
    "We plan to store users' trivia answer accuracy in the backend to eventually display user-specific statistics as part of the game experience.\n",
    "\n",
    "---\n",
    "\n",
    "## API for Storing Highest Quiz Scores:\n",
    "\n",
    "We have implemented a backend API to store each user's highest quiz score.\n",
    "\n",
    "Currently, the API retrieves and saves the user's best performance. In the future, we aim to expand this system to support a full leaderboard, allowing players to compete and track top scores.\n",
    "\n",
    "---\n",
    "\n",
    "## Future Feature: Face ID Authentication:\n",
    "\n",
    "Looking ahead, we aspire to implement Face ID login for added security and convenience.\n",
    "\n",
    "Our goal is to create a backend API to manage user facial data securely and connect it with the frontend to enable quick and safe login, enhancing the user experience and safeguarding user information.\n",
    "\n",
    "---\n",
    "\n",
    "## Drag and Drop Development:\n",
    "\n",
    "We are actively developing a drag-and-drop feature for gameplay. At the moment, we have implemented a basic system allowing a single nucleotide base to be dragged across the screen.\n",
    "\n",
    "We are currently working on properly linking the JavaScript files to our markdown (.md) pages to visualize and test these interactions.\n",
    "\n",
    "**Files Created:**\n",
    "\n",
    "- **BaseMoving.js** — Defines the class for the draggable nucleotide base.\n",
    "- **GameObject.js** — Manages game objects.\n",
    "- **DragDropTest.js** — Integrates and manages the drag-and-drop functionality.\n",
    "- **DragDrop.md** — Displays the drag-and-drop test setup on a webpage."
   ]
  }
 ],
 "metadata": {
  "kernelspec": {
   "display_name": "Python 3",
   "language": "python",
   "name": "python3"
  },
  "language_info": {
   "codemirror_mode": {
    "name": "ipython",
    "version": 3
   },
   "file_extension": ".py",
   "mimetype": "text/x-python",
   "name": "python",
   "nbconvert_exporter": "python",
   "pygments_lexer": "ipython3",
   "version": "3.10.12"
  }
 },
 "nbformat": 4,
 "nbformat_minor": 2
}
