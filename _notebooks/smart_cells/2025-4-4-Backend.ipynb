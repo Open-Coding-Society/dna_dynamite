{
 "cells": [
  {
   "cell_type": "raw",
   "metadata": {
    "vscode": {
     "languageId": "raw"
    }
   },
   "source": [
    "---\n",
    "layout: post\n",
    "title: Backend Documentation\n",
    "description: Backend Documentation\n",
    "permalink: /backend_documentation/\n",
    "comments: true\n",
    "categories: [Backend]\n",
    "---"
   ]
  },
  {
   "cell_type": "markdown",
   "metadata": {},
   "source": [
    "# Gemini API usage & storage for Trivia Quiz: \n",
    "\n",
    "We are currently using Gemini APIs to source the quiz questions for the pop up trivia when all 3 lives are lost. This allows for quiz questions to be put out at random with questions about DNA that is relevant to our game. This is how it is displayed on the frontend: \n",
    "\n",
    "Over the last week, we've been working on a trivia pop-up feature that is triggered when a user loses all three lives. Once the third life is lost, the game initiates a pop-up with a DNA/genetics trivia question that the user must answer correctly in order to continue playing. To avoid bias in question selection, we're sourcing the questions dynamically using the Gemini API, with a custom prompt to generate accurate and educational genetics trivia. On the backend, we’ve created an endpoint that sends a request to Gemini. When triggered, Gemini responds with a trivia question, four answer choices, the correct answer, and an explanation. This data is displayed on the frontend. If the user answers incorrectly, the explanation is shown to help reinforce genetics knowledge before the next attempt.\n",
    "\n",
    "Our next steps will be to store the trivia questions accuracy in the backend in order to display user accuracy as part of the game.\n",
    "\n",
    "\n",
    "# Creating an API for storing highest score \n",
    "\n",
    "In the backend we also created an API for storing the highest quiz score in backend. In this API we have it retreive the user's highest score (this is a tool we would want to expand to creating a leaderboard in the future)\n",
    "\n",
    "# Face-Id\n",
    "\n",
    "A future aspiration for our team is to use a face id login for our game. This would be practical and keep our website and user data safe. We plan to do this by creating an API in the backend to store the users and connecting it to the frontend to log them in and allow them to play the game!"
   ]
  }
 ],
 "metadata": {
  "kernelspec": {
   "display_name": "Python 3",
   "language": "python",
   "name": "python3"
  },
  "language_info": {
   "codemirror_mode": {
    "name": "ipython",
    "version": 3
   },
   "file_extension": ".py",
   "mimetype": "text/x-python",
   "name": "python",
   "nbconvert_exporter": "python",
   "pygments_lexer": "ipython3",
   "version": "3.10.12"
  }
 },
 "nbformat": 4,
 "nbformat_minor": 2
}
