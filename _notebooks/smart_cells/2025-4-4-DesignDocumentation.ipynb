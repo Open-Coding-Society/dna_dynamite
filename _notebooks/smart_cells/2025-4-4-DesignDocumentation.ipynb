{
 "cells": [
  {
   "cell_type": "raw",
   "metadata": {
    "vscode": {
     "languageId": "raw"
    }
   },
   "source": [
    "---\n",
    "layout: post\n",
    "title: Design Documentation\n",
    "description: Design Documentation\n",
    "permalink: /design_documentation\n",
    "comments: true\n",
    "categories: [Documentation]\n",
    "---"
   ]
  },
  {
   "cell_type": "markdown",
   "metadata": {},
   "source": [
    "# Research:\n",
    "\n",
    "\n",
    "Illumina Biotech is a pioneering company in the health and medical services sector, recognized for its mission to improve human health through genomic innovations. Founded in 1998, Illumina's major breakthrough came in 2007 with the acquisition of Solexa, enabling next-generation sequencing (NGS) and revolutionizing genome analysis. \n",
    "\n",
    "The company offers a comprehensive range of genomic tools—including sequencing kits, clinical diagnostics, and informatics software—empowering life-changing discoveries. \n",
    "\n",
    "Looking ahead, Illumina shows strong potential for growth by expanding access to genomic technology, improving data diversity, and reducing sequencing costs.\n",
    "\n",
    "---\n",
    "\n",
    "# Key Highlights:\n",
    "\n",
    "\n",
    "\n",
    "- **Mission:** Unlock the power of the genome to improve global health outcomes.\n",
    "\n",
    "\n",
    "- **Core Products:** Sequencing kits, microarray kits, instruments, diagnostics, and software solutions.\n",
    "\n",
    "\n",
    "- **Major Breakthrough:** 2007 acquisition of Solexa introduced next-generation sequencing (NGS), dramatically reducing costs and increasing accessibility.\n",
    "\n",
    "\n",
    "- **Global Impact:** Drives innovation in research, personalized medicine, and disease treatment.\n",
    "\n",
    "\n",
    "- **Future Potential:** Opportunities exist in expanding access, increasing genomic data diversity, and enhancing technological efficiency.\n",
    "\n",
    "**Research Document Link:**  \n",
    "\n",
    "[Research Document](https://docs.google.com/document/d/1oyEFSuPFLYM3J4kuFYy8XcNMKZlOs_P2U3g7teWJG_U/edit?tab=t.0)\n",
    "\n",
    "---\n",
    "\n",
    "# Original UI Design:\n",
    "\n",
    "<img src=\"{{site.baseurl}}/images/dna-dynamite/gamedesign.png\" width=\"200\" height=\"300\">\n",
    "\n",
    "\n",
    "# Updated UI Design (Post Stand-Up Meeting):\n",
    "\n",
    "<img src=\"{{site.baseurl}}/images/dna-dynamite/updatedesign.png\" width=\"300\" height=\"400\">\n",
    "\n",
    "---\n",
    "\n",
    "# Overall Design Changes:\n",
    "\n",
    "Over time, our design evolved to become more practical and space-efficient. Key changes included:\n",
    "\n",
    "\n",
    " - Relocating the hearts (lives) indicator to the side of the screen to maximize gameplay area.\n",
    "\n",
    "\n",
    "    - Enlarging the game display to fill most of the screen.\n",
    "\n",
    "\n",
    "    - Adding **Instructions**, **Start**, **Stop**, and **Pause** buttons to improve user accessibility and gameplay experience.\n"
   ]
  }
 ],
 "metadata": {
  "kernelspec": {
   "display_name": "Python 3",
   "language": "python",
   "name": "python3"
  },
  "language_info": {
   "codemirror_mode": {
    "name": "ipython",
    "version": 3
   },
   "file_extension": ".py",
   "mimetype": "text/x-python",
   "name": "python",
   "nbconvert_exporter": "python",
   "pygments_lexer": "ipython3",
   "version": "3.10.12"
  }
 },
 "nbformat": 4,
 "nbformat_minor": 2
}
