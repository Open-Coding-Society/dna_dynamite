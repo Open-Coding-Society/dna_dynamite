{
 "cells": [
  {
   "cell_type": "raw",
   "metadata": {
    "vscode": {
     "languageId": "raw"
    }
   },
   "source": [
    "---\n",
    "layout: template\n",
    "title: Design Documentation\n",
    "description: Design Documentation\n",
    "permalink: /design-old/\n",
    "comments: true\n",
    "categories: [Documentation]\n",
    "---"
   ]
  },
  {
   "cell_type": "markdown",
   "metadata": {},
   "source": [
    "\n",
    "<section class=\"bg-white dark:bg-slate-900 py-24 px-4 sm:px-6 lg:px-8\">\n",
    "  <div class=\"max-w-4xl mx-auto\">\n",
    "    <h2 class=\"text-3xl font-bold text-center text-slate-800 dark:text-white mb-12\">Design Timeline</h2>\n",
    "    <div class=\"relative border-l-2 border-blue-500 dark:border-blue-400 pl-6\">\n",
    "      <div class=\"mb-10 ml-4\">\n",
    "        <div class=\"absolute w-4 h-4 bg-blue-500 rounded-full -left-2 top-1\"></div>\n",
    "        <h3 class=\"text-xl font-semibold text-slate-900 dark:text-white\">Phase 1: Research</h3>\n",
    "        <p class=\"mt-2 text-sm text-slate-700 dark:text-slate-300\">Initial brainstorming, used the illumina template to learn more about the company and what the project was intended. We deepdived into the goals of illumina to correctly create a game that reflected these values.</p>\n",
    "      </div>\n",
    "      <div class=\"mb-10 ml-4\">\n",
    "        <div class=\"absolute w-4 h-4 bg-blue-500 rounded-full -left-2 top-1\"></div>\n",
    "        <h3 class=\"text-xl font-semibold text-slate-900 dark:text-white\">Phase 2: Prototyping</h3>\n",
    "        <p class=\"mt-2 text-sm text-slate-700 dark:text-slate-300\">Wireframing UI components, planning interactivity, and defining backend endpoints. We started off by drawing individual parts of the game on the whiteboard and then connecting them together to create one big final whiteboard design. As we progress on making the code for the game we chaged the desing and made a more professional prototype of the game on canva. As we wrapped up making the game there were a few changed but our intial ideas were still leading and present.</p>\n",
    "      </div>\n",
    "      <div class=\"mb-10 ml-4\">\n",
    "        <div class=\"absolute w-4 h-4 bg-blue-500 rounded-full -left-2 top-1\"></div>\n",
    "        <h3 class=\"text-xl font-semibold text-slate-900 dark:text-white\">Phase 3: Development</h3>\n",
    "        <p class=\"mt-2 text-sm text-slate-700 dark:text-slate-300\">Implementing the game loop, animation logic, and backend API integration. Each person in the team worked together but on indiviual parts, broken up, to create various features and aspects of the game. When each part was created, like the trivia quiz, hearts, DNA strands, and leaderbaords were working on their own; they were then connected and merged. After sucessfully making sure the game worked together we added each part to create one big \"featutre\" that a user could play as the DNA dynamite game. </p>\n",
    "      </div>\n",
    "      <div class=\"ml-4\">\n",
    "        <div class=\"absolute w-4 h-4 bg-blue-500 rounded-full -left-2 top-1\"></div>\n",
    "        <h3 class=\"text-xl font-semibold text-slate-900 dark:text-white\">Phase 4: Testing & Launch</h3>\n",
    "        <p class=\"mt-2 text-sm text-slate-700 dark:text-slate-300\">QA testing, fixing visual bugs, final documentation, and public release. The team spent around 2 weeks + working out kinks and bugs that they ran into. After a few weeks of fixing up errors and small design changes the game was much more polished and ready to be deployed and presented.</p>\n",
    "      </div>\n",
    "    </div>\n",
    "  </div>\n",
    "</section>\n"
   ]
  },
  {
   "cell_type": "markdown",
   "metadata": {},
   "source": [
    "[Research Document](https://docs.google.com/document/d/1oyEFSuPFLYM3J4kuFYy8XcNMKZlOs_P2U3g7teWJG_U/edit?tab=t.0)\n",
    "\n",
    "---\n",
    "\n",
    "# Original UI Design:\n",
    "\n",
    "<img src=\"{{site.baseurl}}/images/dna-dynamite/gamedesign.png\" width=\"200\" height=\"300\">\n",
    "\n",
    "\n",
    "# Updated UI Design (Post Stand-Up Meeting):\n",
    "\n",
    "<img src=\"{{site.baseurl}}/images/dna-dynamite/updatedesign.png\" width=\"300\" height=\"400\">\n",
    "\n",
    "---\n",
    "\n",
    "# Overall Design Changes:\n",
    "\n",
    "Over time, our design evolved to become more practical and space-efficient. Key changes included:\n",
    "\n",
    "\n",
    " - Relocating the hearts (lives) indicator to the side of the screen to maximize gameplay area.\n",
    "\n",
    "\n",
    "    - Enlarging the game display to fill most of the screen.\n",
    "\n",
    "\n",
    "    - Adding **Instructions**, **Start**, **Stop**, and **Pause** buttons to improve user accessibility and gameplay experience.\n",
    "\n",
    "---\n",
    "\n",
    "# Current Design: \n",
    "\n",
    "<img src=\"{{site.baseurl}}/images/dna-dynamite/dnadynamite.png\" width=\"100%\">\n",
    "\n",
    "- Hearts were moved and enlarged as well as an implemented breaking glass sound with each life lost\n",
    "\n",
    "- Leaderboard was added with stored logins and scores, changing each time a high score is reached\n",
    "\n",
    "- Typing functionality instead of a drag and drop\n",
    "\n",
    "- More sound effects and popups added for highscore, quiz, and instructions\n"
   ]
  },
  {
   "cell_type": "markdown",
   "metadata": {},
   "source": [
    "<style>\n",
    "    p {\n",
    "        color: black\n",
    "    }\n",
    "    li {\n",
    "        color: black\n",
    "    }\n",
    "</style>"
   ]
  }
 ],
 "metadata": {
  "kernelspec": {
   "display_name": "Python 3",
   "language": "python",
   "name": "python3"
  },
  "language_info": {
   "codemirror_mode": {
    "name": "ipython",
    "version": 3
   },
   "file_extension": ".py",
   "mimetype": "text/x-python",
   "name": "python",
   "nbconvert_exporter": "python",
   "pygments_lexer": "ipython3",
   "version": "3.10.12"
  }
 },
 "nbformat": 4,
 "nbformat_minor": 2
}
